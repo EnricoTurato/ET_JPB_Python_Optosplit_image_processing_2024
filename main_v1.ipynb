{
 "cells": [
  {
   "cell_type": "code",
   "execution_count": 1,
   "id": "a4d22e39",
   "metadata": {},
   "outputs": [],
   "source": [
    "import os"
   ]
  },
  {
   "cell_type": "code",
   "execution_count": 2,
   "id": "27179b40",
   "metadata": {},
   "outputs": [],
   "source": [
    "from optosplit_functions import process_tiff_folder\n",
    "\n",
    "input_folder = 'input_tiff_folder'\n",
    "output_folder_top = 'output_top'\n",
    "output_folder_bottom = 'output_bottom'\n",
    "\n",
    "process_tiff_folder(input_folder, output_folder_top, output_folder_bottom)\n"
   ]
  },
  {
   "cell_type": "code",
   "execution_count": 3,
   "id": "b22ab9fc",
   "metadata": {},
   "outputs": [],
   "source": [
    "from optosplit_functions import extract_orb_features\n",
    "\n",
    "extract_orb_features('output_top', 'output_bottom', 'output_features')"
   ]
  },
  {
   "cell_type": "code",
   "execution_count": 4,
   "id": "5fa00471",
   "metadata": {},
   "outputs": [],
   "source": [
    "from optosplit_functions import calculate_and_save_homographies\n",
    "\n",
    "calculate_and_save_homographies('output_features', 'single_homographies')"
   ]
  },
  {
   "cell_type": "code",
   "execution_count": 5,
   "id": "837d8880",
   "metadata": {},
   "outputs": [],
   "source": [
    "from optosplit_functions import compute_global_homography\n",
    "\n",
    "global_homography = compute_global_homography(\n",
    "    'output_features',  # Replace with your actual folder path containing npz files\n",
    "    'global_homography.npy'  # Replace with your actual desired output path for the homography matrix\n",
    ")"
   ]
  },
  {
   "cell_type": "code",
   "execution_count": 6,
   "id": "3a0d73f5",
   "metadata": {},
   "outputs": [
    {
     "name": "stdout",
     "output_type": "stream",
     "text": [
      "Homography Matrix:\n",
      "[[ 1.00359885e+00  5.14108487e-03 -3.02713064e+00]\n",
      " [-8.63463301e-04  1.00600842e+00  6.66034663e+01]\n",
      " [-1.93105783e-07  5.99429111e-06  1.00000000e+00]]\n"
     ]
    }
   ],
   "source": [
    "import numpy as np\n",
    "\n",
    "homography_file = 'global_homography.npy'\n",
    "\n",
    "# Load the homography matrix\n",
    "homography_matrix = np.load(homography_file)\n",
    "\n",
    "# Print the homography matrix\n",
    "print(\"Homography Matrix:\")\n",
    "print(homography_matrix)"
   ]
  },
  {
   "cell_type": "code",
   "execution_count": null,
   "id": "b2ef647b",
   "metadata": {},
   "outputs": [],
   "source": [
    "from optosplit_functions import process_tiff_folder\n",
    "\n",
    "input_folder = 'test_image'\n",
    "output_folder_top = 'test_image'\n",
    "output_folder_bottom = 'test_image'\n",
    "\n",
    "process_tiff_folder(input_folder, output_folder_top, output_folder_bottom)\n"
   ]
  },
  {
   "cell_type": "code",
   "execution_count": null,
   "id": "280b082f",
   "metadata": {},
   "outputs": [],
   "source": [
    "from optosplit_functions import align_and_save_images\n",
    "\n",
    "align_and_save_images(\n",
    "    'test_image/10x_001t1_top.png',  # Replace with your actual image path\n",
    "    'test_image/10x_001t1_bottom.png',  # Replace with your actual image path\n",
    "    'single_homographies/tile_x003_y002_z004_homography.npy',  # Replace with your actual homography matrix file path\n",
    "    'test_image'  # Replace with your actual output folder path\n",
    ")"
   ]
  },
  {
   "cell_type": "code",
   "execution_count": 7,
   "id": "8f4d76e5",
   "metadata": {},
   "outputs": [],
   "source": [
    "from optosplit_functions import align_and_save_images\n",
    "\n",
    "align_and_save_images(\n",
    "    'test_image/10x_001t1_top.png',  # Replace with your actual image path\n",
    "    'test_image/10x_001t1_bottom.png',  # Replace with your actual image path\n",
    "    'global_homography.npy',  # Replace with your actual homography matrix file path\n",
    "    'test_image'  # Replace with your actual output folder path\n",
    ")"
   ]
  },
  {
   "cell_type": "code",
   "execution_count": null,
   "id": "1f1839ff",
   "metadata": {},
   "outputs": [],
   "source": []
  }
 ],
 "metadata": {
  "kernelspec": {
   "display_name": "Python 3 (ipykernel)",
   "language": "python",
   "name": "python3"
  },
  "language_info": {
   "codemirror_mode": {
    "name": "ipython",
    "version": 3
   },
   "file_extension": ".py",
   "mimetype": "text/x-python",
   "name": "python",
   "nbconvert_exporter": "python",
   "pygments_lexer": "ipython3",
   "version": "3.9.12"
  },
  "latex_envs": {
   "LaTeX_envs_menu_present": true,
   "autoclose": false,
   "autocomplete": true,
   "bibliofile": "biblio.bib",
   "cite_by": "apalike",
   "current_citInitial": 1,
   "eqLabelWithNumbers": true,
   "eqNumInitial": 1,
   "hotkeys": {
    "equation": "Ctrl-E",
    "itemize": "Ctrl-I"
   },
   "labels_anchors": false,
   "latex_user_defs": false,
   "report_style_numbering": false,
   "user_envs_cfg": false
  },
  "toc": {
   "base_numbering": 1,
   "nav_menu": {},
   "number_sections": true,
   "sideBar": true,
   "skip_h1_title": false,
   "title_cell": "Table of Contents",
   "title_sidebar": "Contents",
   "toc_cell": false,
   "toc_position": {},
   "toc_section_display": true,
   "toc_window_display": false
  }
 },
 "nbformat": 4,
 "nbformat_minor": 5
}
